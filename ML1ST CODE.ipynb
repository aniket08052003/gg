{
 "cells": [
  {
   "cell_type": "code",
   "execution_count": null,
   "id": "71dc542c",
   "metadata": {},
   "outputs": [],
   "source": [
    "import numpy as np\n",
    "import pandas as pd\n",
    "import matplotlib.pyplot as plt\n",
    "import seaborn as sns"
   ]
  },
  {
   "cell_type": "code",
   "execution_count": null,
   "id": "b0c5c7fb",
   "metadata": {},
   "outputs": [],
   "source": [
    "dataFrame=pd.read_csv('heart.csv')"
   ]
  },
  {
   "cell_type": "code",
   "execution_count": null,
   "id": "085cf393",
   "metadata": {},
   "outputs": [],
   "source": [
    "dataFrame.shape"
   ]
  },
  {
   "cell_type": "code",
   "execution_count": null,
   "id": "859589cc",
   "metadata": {},
   "outputs": [],
   "source": [
    "dataFrame.head()"
   ]
  },
  {
   "cell_type": "code",
   "execution_count": null,
   "id": "5b97a6a3",
   "metadata": {},
   "outputs": [],
   "source": [
    "dataFrame.tail()"
   ]
  },
  {
   "cell_type": "code",
   "execution_count": null,
   "id": "e0545514",
   "metadata": {},
   "outputs": [],
   "source": [
    "dataFrame=dataFrame.drop(\"Unnamed: 0\",axis =1)"
   ]
  },
  {
   "cell_type": "code",
   "execution_count": null,
   "id": "5d76d258",
   "metadata": {},
   "outputs": [],
   "source": [
    "dataFrame.dtypes"
   ]
  },
  {
   "cell_type": "code",
   "execution_count": null,
   "id": "61202079",
   "metadata": {},
   "outputs": [],
   "source": [
    "dataFrame.describe()"
   ]
  },
  {
   "cell_type": "code",
   "execution_count": null,
   "id": "722c7572",
   "metadata": {},
   "outputs": [],
   "source": [
    "dataFrame.info()"
   ]
  },
  {
   "cell_type": "code",
   "execution_count": null,
   "id": "d4a94875",
   "metadata": {},
   "outputs": [],
   "source": [
    "dataFrame.Ca.value_counts()"
   ]
  },
  {
   "cell_type": "code",
   "execution_count": null,
   "id": "99970d3e",
   "metadata": {},
   "outputs": [],
   "source": [
    "dataFrame.Sex.value_counts()"
   ]
  },
  {
   "cell_type": "code",
   "execution_count": null,
   "id": "0e27e9aa",
   "metadata": {},
   "outputs": [],
   "source": [
    "dataFrame.isnull()"
   ]
  },
  {
   "cell_type": "code",
   "execution_count": null,
   "id": "729cb341",
   "metadata": {},
   "outputs": [],
   "source": [
    "dataFrame.isnull().sum()"
   ]
  },
  {
   "cell_type": "code",
   "execution_count": null,
   "id": "18a86540",
   "metadata": {},
   "outputs": [],
   "source": [
    "dataFrame.Age.mean()"
   ]
  },
  {
   "cell_type": "code",
   "execution_count": null,
   "id": "a9675885",
   "metadata": {},
   "outputs": [],
   "source": [
    "dataFrame.describe()"
   ]
  },
  {
   "cell_type": "code",
   "execution_count": null,
   "id": "321b56a3",
   "metadata": {},
   "outputs": [],
   "source": [
    "dataFrame[\"Age\"].mean(axis=0)"
   ]
  },
  {
   "cell_type": "code",
   "execution_count": null,
   "id": "62ae03ad",
   "metadata": {},
   "outputs": [],
   "source": [
    "var=dataFrame.loc[:,['Age','Sex','ChestPain','RestBP','Chol']]"
   ]
  },
  {
   "cell_type": "code",
   "execution_count": null,
   "id": "2daa3195",
   "metadata": {},
   "outputs": [],
   "source": [
    "var"
   ]
  },
  {
   "cell_type": "code",
   "execution_count": null,
   "id": "87682df1",
   "metadata": {},
   "outputs": [],
   "source": [
    "# Splitting the dataset into train and test sets: 75-25 split\n",
    "\n",
    "from sklearn.model_selection import train_test_split\n",
    "\n",
    "X_train, X_test = train_test_split(var, test_size = 0.25, random_state = 42)\n",
    "X_train.shape, X_test.shape"
   ]
  },
  {
   "cell_type": "code",
   "execution_count": null,
   "id": "c349e40b",
   "metadata": {},
   "outputs": [],
   "source": [
    "tp=90\n",
    "fp=11\n",
    "fn=19\n",
    "tn=40\n",
    "acc=(tp+tn)/(tp+fp+fn+tn)\n",
    "pre=tp/(tp+fp)\n",
    "rec=tp/(tp+fn)\n",
    "print(\"Accuracy is : {}\".format(acc))\n",
    "print(\"Precision is : {}\".format(pre))\n",
    "print(\"Recall is : {}\".format(rec))\n",
    "print(\"F1-Score is : {}\".format((2*pre*rec)/(pre+rec)))"
   ]
  },
  {
   "cell_type": "code",
   "execution_count": null,
   "id": "ed134c81",
   "metadata": {},
   "outputs": [],
   "source": [
    "plt.figure(figsize=(10,10))\n",
    "sns.heatmap(dataFrame.corr(), annot=True)\n",
    "plt.show()"
   ]
  },
  {
   "cell_type": "code",
   "execution_count": null,
   "id": "a4833f0a",
   "metadata": {},
   "outputs": [],
   "source": [
    "dataFrame.plot();"
   ]
  },
  {
   "cell_type": "code",
   "execution_count": null,
   "id": "50919cd1",
   "metadata": {},
   "outputs": [],
   "source": [
    "dataFrame.hist(bins = 10,figsize = (15,11));"
   ]
  },
  {
   "cell_type": "code",
   "execution_count": null,
   "id": "ff7cdf11",
   "metadata": {},
   "outputs": [],
   "source": [
    "sns.pairplot(var);"
   ]
  },
  {
   "cell_type": "code",
   "execution_count": null,
   "id": "08540a05",
   "metadata": {},
   "outputs": [],
   "source": [
    "labels=['Male','Female']\n",
    "dataFrame.Sex.value_counts().plot(kind= \"pie\",labels =labels,startangle=90,shadow=True,\n",
    "                                  explode=(0,0),autopct='%1.1f%%' );"
   ]
  },
  {
   "cell_type": "code",
   "execution_count": null,
   "id": "7b2e55a6",
   "metadata": {},
   "outputs": [],
   "source": [
    "plt.hist(dataFrame[\"Age\"],bins=15,label=\"Age Count\")\n",
    "plt.title(\"Age Histogram\")\n",
    "plt.xlabel(\"Age range\")\n",
    "plt.ylabel(\"Count according to Age\")\n",
    "plt.legend(loc=\"upper left\");"
   ]
  },
  {
   "cell_type": "code",
   "execution_count": null,
   "id": "97f9a182",
   "metadata": {},
   "outputs": [],
   "source": [
    "sns.barplot(x = \"Slope\", y = \"Age\", hue = \"Sex\", data = dataFrame)\n",
    "plt.title(\"Slope Group - Count Bar Plot Grouped by Sex\")\n",
    "plt.show()"
   ]
  },
  {
   "cell_type": "code",
   "execution_count": null,
   "id": "34a259c5",
   "metadata": {},
   "outputs": [],
   "source": [
    "sns.barplot(x = \"Ca\", y = \"Chol\", hue = \"Slope\", data = dataFrame)\n",
    "plt.title(\"Ca Group - Count Bar Plot Grouped by Slope\")\n",
    "plt.show()"
   ]
  },
  {
   "cell_type": "code",
   "execution_count": null,
   "id": "1036571a",
   "metadata": {},
   "outputs": [],
   "source": [
    "plt.scatter(dataFrame[\"RestBP\"],dataFrame[\"Age\"],label=\"BP level according to Age\")\n",
    "plt.title(\"BP vs Age Scatterplot\")\n",
    "plt.xlabel(\"Rest BP level\")\n",
    "plt.ylabel(\"Age\")\n",
    "plt.legend(loc=\"lower right\");"
   ]
  }
 ],
 "metadata": {
  "kernelspec": {
   "display_name": "Python 3 (ipykernel)",
   "language": "python",
   "name": "python3"
  },
  "language_info": {
   "codemirror_mode": {
    "name": "ipython",
    "version": 3
   },
   "file_extension": ".py",
   "mimetype": "text/x-python",
   "name": "python",
   "nbconvert_exporter": "python",
   "pygments_lexer": "ipython3",
   "version": "3.11.5"
  }
 },
 "nbformat": 4,
 "nbformat_minor": 5
}
