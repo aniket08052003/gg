{
 "cells": [
  {
   "cell_type": "code",
   "execution_count": null,
   "id": "1432ef63",
   "metadata": {},
   "outputs": [],
   "source": [
    "#importing required libraries\n",
    "\n",
    "import numpy as np\n",
    "import pandas as pd\n",
    "import matplotlib.pyplot as plt\n",
    "import seaborn as sns\n",
    "import warnings\n",
    "warnings.filterwarnings('ignore')"
   ]
  },
  {
   "cell_type": "code",
   "execution_count": null,
   "id": "68584407",
   "metadata": {},
   "outputs": [],
   "source": [
    "#Loading data into dataframe\n",
    "df = pd.read_csv(\"Mall_Customers.csv\")"
   ]
  },
  {
   "cell_type": "code",
   "execution_count": null,
   "id": "7c9fe4ba",
   "metadata": {},
   "outputs": [],
   "source": [
    "# first 5 instances of dataset\n",
    "\n",
    "df.head()"
   ]
  },
  {
   "cell_type": "code",
   "execution_count": null,
   "id": "cc21410c",
   "metadata": {},
   "outputs": [],
   "source": [
    "# last 5 instances of dataset\n",
    "\n",
    "df.tail()"
   ]
  },
  {
   "cell_type": "code",
   "execution_count": null,
   "id": "000532d5",
   "metadata": {},
   "outputs": [],
   "source": [
    "#Shape of dataframe\n",
    "\n",
    "df.shape"
   ]
  },
  {
   "cell_type": "code",
   "execution_count": null,
   "id": "4ffa3f1b",
   "metadata": {},
   "outputs": [],
   "source": [
    "#columns in dataframe\n",
    "\n",
    "df.columns"
   ]
  },
  {
   "cell_type": "code",
   "execution_count": null,
   "id": "f30b1397",
   "metadata": {},
   "outputs": [],
   "source": [
    "# droping Id column\n",
    "\n",
    "df.drop(\"CustomerID\",axis=1,inplace=True)"
   ]
  },
  {
   "cell_type": "code",
   "execution_count": null,
   "id": "958ad45a",
   "metadata": {},
   "outputs": [],
   "source": [
    "# Checking Dataset\n",
    "\n",
    "df"
   ]
  },
  {
   "cell_type": "code",
   "execution_count": null,
   "id": "3383fe28",
   "metadata": {},
   "outputs": [],
   "source": [
    "#Find missing values\n",
    "print(\"Missing values:\")\n",
    "df.isnull().sum()"
   ]
  },
  {
   "cell_type": "code",
   "execution_count": null,
   "id": "949dae7f",
   "metadata": {},
   "outputs": [],
   "source": [
    "# describtion of dataset\n",
    "\n",
    "df.describe()"
   ]
  },
  {
   "cell_type": "code",
   "execution_count": null,
   "id": "2398fe9c",
   "metadata": {},
   "outputs": [],
   "source": [
    "# info about dataset\n",
    "\n",
    "df.info()"
   ]
  },
  {
   "cell_type": "code",
   "execution_count": null,
   "id": "1f0310fa",
   "metadata": {},
   "outputs": [],
   "source": [
    "#no. of classes in Dataset\n",
    "\n",
    "df.nunique()"
   ]
  },
  {
   "cell_type": "code",
   "execution_count": null,
   "id": "df83c109",
   "metadata": {},
   "outputs": [],
   "source": [
    "#Correlation among dataset\n",
    "\n",
    "df.corr()"
   ]
  },
  {
   "cell_type": "code",
   "execution_count": null,
   "id": "924eb835",
   "metadata": {},
   "outputs": [],
   "source": [
    "#Correlation heatmap\n",
    "\n",
    "plt.figure(figsize=(7,5))\n",
    "sns.heatmap(df.corr(), annot=True, cmap='RdYlGn')\n",
    "plt.show()"
   ]
  },
  {
   "cell_type": "code",
   "execution_count": null,
   "id": "ad7b22da",
   "metadata": {},
   "outputs": [],
   "source": [
    "df.hist(bins = 50,figsize = (10,6));"
   ]
  },
  {
   "cell_type": "code",
   "execution_count": null,
   "id": "27bbb1c5",
   "metadata": {},
   "outputs": [],
   "source": [
    "# pie chart for \"Total Gender Count\"\n",
    "\n",
    "df['Genre'].value_counts().plot(kind='pie',figsize=(5,5),autopct='%1.1f%%')\n",
    "plt.title(\"Total Gender Count\")\n",
    "plt.show()\n"
   ]
  },
  {
   "cell_type": "code",
   "execution_count": null,
   "id": "753f7015",
   "metadata": {},
   "outputs": [],
   "source": [
    "sns.pairplot(df,hue=\"Genre\");"
   ]
  },
  {
   "cell_type": "code",
   "execution_count": null,
   "id": "00802335",
   "metadata": {},
   "outputs": [],
   "source": [
    "sns.set(style = 'whitegrid')\n",
    "sns.scatterplot(y = 'Spending Score (1-100)',x ='Annual Income (k$)',data = df,hue= \"Genre\");\n",
    "plt.title('Iris Dataset')\n",
    "plt.show()"
   ]
  },
  {
   "cell_type": "code",
   "execution_count": null,
   "id": "0b9964d5",
   "metadata": {},
   "outputs": [],
   "source": [
    "# LabelEncoder for encoding binary categories in a column\n",
    "from sklearn.preprocessing import LabelEncoder\n",
    "from sklearn import metrics \n",
    "le = LabelEncoder()  \n",
    "# One single vector so it is ovbious what we want to encode\n",
    "df[\"Genre\"] = le.fit_transform(df[\"Genre\"])"
   ]
  },
  {
   "cell_type": "code",
   "execution_count": null,
   "id": "8bcd2a68",
   "metadata": {},
   "outputs": [],
   "source": [
    "df"
   ]
  },
  {
   "cell_type": "code",
   "execution_count": null,
   "id": "8ea10ea2",
   "metadata": {},
   "outputs": [],
   "source": [
    "# Finding the optimum number of clusters using k-means\n",
    "data = df.copy()\n",
    "x = data.iloc[:,[2,3]]\n",
    "\n",
    "#importing Kmean model\n",
    "from sklearn.cluster import KMeans\n",
    "wcss = []\n",
    "for i in range(1,11):\n",
    "    kmeans = KMeans(n_clusters=i, init='k-means++', random_state=42)\n",
    "    kmeans.fit(x)\n",
    "    # appending the WCSS to the list \n",
    "    #(kmeans.inertia_ returns the WCSS value for an initialized cluster)\n",
    "    wcss.append(kmeans.inertia_) \n",
    "    print('k:',i ,\"-> wcss:\",kmeans.inertia_)"
   ]
  },
  {
   "cell_type": "code",
   "execution_count": null,
   "id": "5e962a3e",
   "metadata": {},
   "outputs": [],
   "source": [
    "# Plotting the results onto a line graph, allowing us to observe 'The elbow'\n",
    "\n",
    "plt.plot(range(1,11),wcss,marker='o')\n",
    "plt.title('The Elbow Method')\n",
    "plt.xlabel('Number of Clusters')\n",
    "plt.ylabel('WCSS')\n",
    "plt.show()"
   ]
  },
  {
   "cell_type": "code",
   "execution_count": null,
   "id": "95a6f228",
   "metadata": {},
   "outputs": [],
   "source": [
    "#Taking 5 clusters\n",
    "km1=KMeans(n_clusters=5)\n",
    "#Fitting the input data\n",
    "km1.fit(data)\n",
    "#predicting the labels of the input data\n",
    "y=km1.predict(data)\n",
    "#adding the labels to a column named label\n",
    "data[\"label\"] = y\n",
    "#The new dataframe with the clustering done\n",
    "data.head()"
   ]
  },
  {
   "cell_type": "code",
   "execution_count": null,
   "id": "af258ebe",
   "metadata": {},
   "outputs": [],
   "source": [
    "#Scatterplot of the clusters\n",
    "plt.figure(figsize=(6,4))\n",
    "sns.scatterplot(x = 'Annual Income (k$)',y = 'Spending Score (1-100)',hue=\"label\",  \n",
    "                 palette=['green','brown','orange','red','dodgerblue'],data = data )\n",
    "plt.xlabel('Annual Income (k$)')\n",
    "plt.ylabel('Spending Score (1-100)') \n",
    "plt.title('Spending Score (1-100) vs Annual Income (k$)')\n",
    "plt.show()"
   ]
  },
  {
   "cell_type": "code",
   "execution_count": null,
   "id": "e1765640",
   "metadata": {},
   "outputs": [],
   "source": [
    "X=data.iloc[:,:4]\n",
    "y=data.iloc[:,-1]"
   ]
  },
  {
   "cell_type": "code",
   "execution_count": null,
   "id": "49f3f363",
   "metadata": {},
   "outputs": [],
   "source": [
    "# Splitting of dataset into train and test\n",
    "\n",
    "from sklearn.model_selection import train_test_split\n",
    "X_train, X_test, y_train, y_test = train_test_split(X, y, test_size=0.2, random_state=42)\n",
    "\n",
    "# Shape of train Test Split\n",
    "print(X_train.shape,y_train.shape)\n",
    "print(X_test.shape,y_test.shape)"
   ]
  },
  {
   "cell_type": "code",
   "execution_count": null,
   "id": "caeb5bf5",
   "metadata": {},
   "outputs": [],
   "source": [
    "from sklearn.cluster import KMeans\n",
    "km=KMeans(n_clusters=5)\n",
    "km.fit(X_train)\n",
    "\n",
    "#predicting the target value from the model for the samples\n",
    "y_train_km = km.predict(X_train)\n",
    "y_test_km = km.predict(X_test)"
   ]
  },
  {
   "cell_type": "code",
   "execution_count": null,
   "id": "9de718a9",
   "metadata": {},
   "outputs": [],
   "source": [
    "from sklearn.metrics.cluster import adjusted_rand_score\n",
    "\n",
    "acc_train_gmm = adjusted_rand_score(y_train,y_train_km)\n",
    "acc_test_gmm = adjusted_rand_score(y_test,y_test_km)\n",
    "\n",
    "print(\"K mean : Accuracy on training Data: {:.3f}\".format(acc_train_gmm))\n",
    "print(\"K mean : Accuracy on test Data: {:.3f}\".format(acc_test_gmm))"
   ]
  },
  {
   "cell_type": "code",
   "execution_count": null,
   "id": "05f81fab",
   "metadata": {},
   "outputs": [],
   "source": [
    "data = df.copy()\n",
    "data = data.iloc[:,[2,3]]\n",
    "data"
   ]
  },
  {
   "cell_type": "code",
   "execution_count": null,
   "id": "41d9dc1a",
   "metadata": {},
   "outputs": [],
   "source": [
    "sns.scatterplot(x=\"Annual Income (k$)\",y=\"Spending Score (1-100)\",data = data );"
   ]
  },
  {
   "cell_type": "code",
   "execution_count": null,
   "id": "9ffd5ae4",
   "metadata": {},
   "outputs": [],
   "source": [
    "import scipy.cluster.hierarchy as shc\n",
    "dendrogram = shc.dendrogram(shc.linkage(data,method=\"ward\"))\n",
    "plt.title(\"dendrogram Plot\")\n",
    "plt.xlabel(\"Customer\")\n",
    "plt.ylabel(\"Eclidean Distance\")\n",
    "plt.grid(False)"
   ]
  },
  {
   "cell_type": "code",
   "execution_count": null,
   "id": "5c35184f",
   "metadata": {},
   "outputs": [],
   "source": [
    "from sklearn.cluster import AgglomerativeClustering\n",
    "agc = AgglomerativeClustering(n_clusters=5)\n",
    "data[\"label\"] = agc.fit_predict(data)\n",
    "data"
   ]
  },
  {
   "cell_type": "code",
   "execution_count": null,
   "id": "328bdbd0",
   "metadata": {},
   "outputs": [],
   "source": [
    "#Scatterplot of the clusters\n",
    "sns.scatterplot(x = 'Annual Income (k$)',y = 'Spending Score (1-100)',hue=\"label\",  \n",
    "                 palette=['green','brown','orange','red','dodgerblue'],data = data )\n",
    "plt.xlabel('Annual Income (k$)')\n",
    "plt.ylabel('Spending Score (1-100)') \n",
    "plt.title('Spending Score (1-100) vs Annual Income (k$)')\n",
    "plt.show()"
   ]
  }
 ],
 "metadata": {
  "kernelspec": {
   "display_name": "Python 3 (ipykernel)",
   "language": "python",
   "name": "python3"
  },
  "language_info": {
   "codemirror_mode": {
    "name": "ipython",
    "version": 3
   },
   "file_extension": ".py",
   "mimetype": "text/x-python",
   "name": "python",
   "nbconvert_exporter": "python",
   "pygments_lexer": "ipython3",
   "version": "3.11.4"
  }
 },
 "nbformat": 4,
 "nbformat_minor": 5
}
