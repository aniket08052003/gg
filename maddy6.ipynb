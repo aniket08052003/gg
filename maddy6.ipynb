{
 "cells": [
  {
   "cell_type": "code",
   "execution_count": null,
   "id": "79be29c7",
   "metadata": {},
   "outputs": [],
   "source": [
    "import numpy as np # linear algebra\n",
    "import pandas as pd # data processing, CSV file I/O (e.g. pd.read_csv)\n",
    "\n",
    "import os\n",
    "for dirname, _, filenames in os.walk('/kaggle/input'):\n",
    "    for filename in filenames:\n",
    "        print(os.path.join(dirname, filename))\n"
   ]
  },
  {
   "cell_type": "code",
   "execution_count": null,
   "id": "5b01cd9f",
   "metadata": {},
   "outputs": [],
   "source": [
    "!pip install mlxtend"
   ]
  },
  {
   "cell_type": "code",
   "execution_count": null,
   "id": "0dfe4905",
   "metadata": {},
   "outputs": [],
   "source": [
    "import csv\n",
    "from mlxtend.preprocessing import TransactionEncoder\n",
    "from mlxtend.frequent_patterns import apriori, association_rules"
   ]
  },
  {
   "cell_type": "code",
   "execution_count": null,
   "id": "186ff05c",
   "metadata": {},
   "outputs": [],
   "source": [
    "data = []\n",
    "with open('Market_Basket_Optimisation.csv') as file:\n",
    "    reader = csv.reader(file, delimiter=',')\n",
    "    for row in reader:\n",
    "        data +=[row]"
   ]
  },
  {
   "cell_type": "code",
   "execution_count": null,
   "id": "88c1d7ba",
   "metadata": {},
   "outputs": [],
   "source": [
    "data[1:10] #list of list"
   ]
  },
  {
   "cell_type": "code",
   "execution_count": null,
   "id": "2b403d4f",
   "metadata": {},
   "outputs": [],
   "source": [
    "len(data)"
   ]
  },
  {
   "cell_type": "code",
   "execution_count": null,
   "id": "4dc45079",
   "metadata": {},
   "outputs": [],
   "source": [
    "te = TransactionEncoder()\n",
    "x = te.fit_transform(data)"
   ]
  },
  {
   "cell_type": "code",
   "execution_count": null,
   "id": "12dfe6cf",
   "metadata": {},
   "outputs": [],
   "source": [
    "x"
   ]
  },
  {
   "cell_type": "code",
   "execution_count": null,
   "id": "02f5bbfa",
   "metadata": {},
   "outputs": [],
   "source": [
    "te.columns_"
   ]
  },
  {
   "cell_type": "code",
   "execution_count": null,
   "id": "ee16a6f4",
   "metadata": {},
   "outputs": [],
   "source": [
    "df = pd.DataFrame(x, columns=te.columns_)"
   ]
  },
  {
   "cell_type": "code",
   "execution_count": null,
   "id": "1b9ddcb5",
   "metadata": {},
   "outputs": [],
   "source": [
    "df"
   ]
  },
  {
   "cell_type": "code",
   "execution_count": null,
   "id": "b9511428",
   "metadata": {},
   "outputs": [],
   "source": [
    "# Finding frequent itemsets\n",
    "freq_itemset = apriori(df, min_support=0.01, use_colnames=True)"
   ]
  },
  {
   "cell_type": "code",
   "execution_count": null,
   "id": "7326412a",
   "metadata": {},
   "outputs": [],
   "source": [
    "freq_itemset"
   ]
  },
  {
   "cell_type": "code",
   "execution_count": null,
   "id": "897d6d2f",
   "metadata": {},
   "outputs": [],
   "source": [
    "#Find the rules\n",
    "rules = association_rules(freq_itemset, metric='confidence', min_threshold=0.10)"
   ]
  },
  {
   "cell_type": "code",
   "execution_count": null,
   "id": "3524bad2",
   "metadata": {},
   "outputs": [],
   "source": [
    "rules = rules[['antecedents','consequents','support','confidence']]\n",
    "rules"
   ]
  },
  {
   "cell_type": "code",
   "execution_count": null,
   "id": "885ca854",
   "metadata": {},
   "outputs": [],
   "source": [
    "rules[rules['antecedents'] == {'cake'}]['consequents']"
   ]
  }
 ],
 "metadata": {
  "kernelspec": {
   "display_name": "Python 3 (ipykernel)",
   "language": "python",
   "name": "python3"
  },
  "language_info": {
   "codemirror_mode": {
    "name": "ipython",
    "version": 3
   },
   "file_extension": ".py",
   "mimetype": "text/x-python",
   "name": "python",
   "nbconvert_exporter": "python",
   "pygments_lexer": "ipython3",
   "version": "3.11.4"
  }
 },
 "nbformat": 4,
 "nbformat_minor": 5
}
