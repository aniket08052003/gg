{
 "cells": [
  {
   "cell_type": "code",
   "execution_count": null,
   "id": "db88f4ef",
   "metadata": {},
   "outputs": [],
   "source": [
    "import matplotlib.pyplot as plt\n",
    "import numpy as np\n",
    "import pandas as pd\n",
    "import seaborn as sns\n",
    "%matplotlib inline\n",
    "from sklearn.metrics import mean_squared_error,mean_absolute_error,r2_score"
   ]
  },
  {
   "cell_type": "code",
   "execution_count": null,
   "id": "52517418",
   "metadata": {},
   "outputs": [],
   "source": [
    "temp_dataset = pd.read_csv('temperatures.csv')\n",
    "temp_dataset"
   ]
  },
  {
   "cell_type": "code",
   "execution_count": null,
   "id": "05313fe4",
   "metadata": {},
   "outputs": [],
   "source": [
    "temp_dataset.shape"
   ]
  },
  {
   "cell_type": "code",
   "execution_count": null,
   "id": "b44042a2",
   "metadata": {},
   "outputs": [],
   "source": [
    "temp_dataset.describe().T"
   ]
  },
  {
   "cell_type": "code",
   "execution_count": null,
   "id": "92c9d353",
   "metadata": {},
   "outputs": [],
   "source": [
    "temp_dataset.isnull().sum()"
   ]
  },
  {
   "cell_type": "code",
   "execution_count": null,
   "id": "6d5ebadb",
   "metadata": {},
   "outputs": [],
   "source": [
    "plt.figure(figsize=(10,6))\n",
    "plt.plot(temp_dataset[\"YEAR\"],temp_dataset.iloc[:,1:13])\n",
    "plt.xlabel(\"Year\")\n",
    "plt.ylabel(\"Temperature\")\n",
    "plt.title(\"All Months(1901- 2017)\")\n",
    "plt.legend([\"JAN\",\"FEB\",\"MAR\",\"APR\",\"MAY\",\"JUN\",\"JUL\",\"AUG\",\"SEP\",\"OCT\",\"NOV\",\"DEC\"])\n",
    "plt.show()"
   ]
  },
  {
   "cell_type": "code",
   "execution_count": null,
   "id": "92433337",
   "metadata": {},
   "outputs": [],
   "source": [
    "plt.plot(temp_dataset[\"YEAR\"],temp_dataset[\"ANNUAL\"])\n",
    "plt.xlabel(\"Year\")\n",
    "plt.ylabel(\"Temperature\")\n",
    "plt.title(\"ANNUAL  AVERAGE (1901- 2017)\")\n",
    "plt.show()"
   ]
  },
  {
   "cell_type": "code",
   "execution_count": null,
   "id": "e143a8f8",
   "metadata": {},
   "outputs": [],
   "source": [
    "# Split the dataset into training and testing # january\n",
    "\n",
    "from sklearn.model_selection import train_test_split\n",
    "from sklearn.linear_model import LinearRegression\n",
    "\n",
    "X=temp_dataset[[\"YEAR\"]]\n",
    "y=temp_dataset[\"JAN\"]\n",
    "\n",
    "X_train, X_test, y_train, y_test = train_test_split(X, y, test_size = 0.2, random_state = 42)\n",
    "print(X_train.shape, X_test.shape)\n",
    "\n",
    "# instantiate the model\n",
    "lr = LinearRegression()\n",
    "\n",
    "# fit the model \n",
    "lr.fit(X_train, y_train)\n",
    "\n",
    "#predicting the target value from the model for the samples\n",
    "y_test_lr = lr.predict(X_test)\n",
    "y_train_lr = lr.predict(X_train)"
   ]
  },
  {
   "cell_type": "code",
   "execution_count": null,
   "id": "424a1b2b",
   "metadata": {},
   "outputs": [],
   "source": [
    "print(\"Intercept\",lr.intercept_)\n",
    "print(\"Slope\",lr.coef_)"
   ]
  },
  {
   "cell_type": "code",
   "execution_count": null,
   "id": "d956b34f",
   "metadata": {},
   "outputs": [],
   "source": [
    "#computing the accuracy of the model performance\n",
    "acc_train_lr = lr.score(X_train, y_train)\n",
    "acc_test_lr = lr.score(X_test, y_test)\n",
    "\n",
    "#computing root mean squared error (RMSE)\n",
    "rmse_train_lr = np.sqrt(mean_squared_error(y_train, y_train_lr))\n",
    "rmse_test_lr = np.sqrt(mean_squared_error(y_test, y_test_lr))\n",
    "\n",
    "print(\"Linear Regression: Accuracy on training Data: {:.3f}\".format(acc_train_lr))\n",
    "print(\"Linear Regression: Accuracy on test Data: {:.3f}\".format(acc_test_lr))\n",
    "print('\\nLinear Regression: The RMSE of the training set is:', rmse_train_lr)\n",
    "print('Linear Regression: The RMSE of the testing set is:', rmse_test_lr)"
   ]
  },
  {
   "cell_type": "code",
   "execution_count": null,
   "id": "aa8010ed",
   "metadata": {},
   "outputs": [],
   "source": [
    "#visulaize annaul temperature\n",
    "plt.plot(X,y)\n",
    "plt.xlabel(\"Year\")  \n",
    "plt.ylabel(\"Temperature\") \n",
    "plt.title(\"Annual Temperature from 1901-2017\")\n",
    "plt.show()"
   ]
  },
  {
   "cell_type": "code",
   "execution_count": null,
   "id": "5487bd47",
   "metadata": {},
   "outputs": [],
   "source": [
    "#Errors for month Jan\n",
    "print('R-Squared Error :',r2_score(y_test,y_test_lr))\n",
    "print('Mean Absolute Error :',mean_absolute_error(y_test,y_test_lr))\n",
    "print('Mean Squared Error :',mean_squared_error(y_test,y_test_lr))\n",
    "print('Root Mean Squared Error :',np.sqrt(mean_squared_error(y_test,y_test_lr)))"
   ]
  },
  {
   "cell_type": "code",
   "execution_count": null,
   "id": "f46cbe28",
   "metadata": {},
   "outputs": [],
   "source": [
    "# Split the dataset into training and testing# february\n",
    "\n",
    "from sklearn.model_selection import train_test_split\n",
    "from sklearn.linear_model import LinearRegression\n",
    "\n",
    "X=temp_dataset[[\"YEAR\"]]\n",
    "y=temp_dataset[\"FEB\"]\n",
    "X_train, X_test, y_train, y_test = train_test_split(X, y, test_size = 0.2, random_state = 42)\n",
    "print(X_train.shape, X_test.shape)\n",
    "\n",
    "# instantiate the model\n",
    "lr = LinearRegression()\n",
    "# fit the model \n",
    "lr.fit(X_train, y_train)\n",
    "\n",
    "#predicting the target value from the model for the samples\n",
    "y_test_lr = lr.predict(X_test)\n",
    "y_train_lr = lr.predict(X_train)"
   ]
  },
  {
   "cell_type": "code",
   "execution_count": null,
   "id": "6e33bdeb",
   "metadata": {},
   "outputs": [],
   "source": [
    "print(\"Intercept\",lr.intercept_)\n",
    "print(\"Slope\",lr.coef_)"
   ]
  },
  {
   "cell_type": "code",
   "execution_count": null,
   "id": "db6fd3ce",
   "metadata": {},
   "outputs": [],
   "source": [
    "#computing the accuracy of the model performance\n",
    "acc_train_lr = lr.score(X_train, y_train)\n",
    "acc_test_lr = lr.score(X_test, y_test)\n",
    "\n",
    "#computing root mean squared error (RMSE)\n",
    "rmse_train_lr = np.sqrt(mean_squared_error(y_train, y_train_lr))\n",
    "rmse_test_lr = np.sqrt(mean_squared_error(y_test, y_test_lr))\n",
    "\n",
    "print(\"Linear Regression: Accuracy on training Data: {:.3f}\".format(acc_train_lr))\n",
    "print(\"Linear Regression: Accuracy on test Data: {:.3f}\".format(acc_test_lr))\n",
    "print('\\nLinear Regression: The RMSE of the training set is:', rmse_train_lr)\n",
    "print('Linear Regression: The RMSE of the testing set is:', rmse_test_lr)"
   ]
  },
  {
   "cell_type": "code",
   "execution_count": null,
   "id": "a00e1779",
   "metadata": {},
   "outputs": [],
   "source": [
    "#visulaize annaul temperature\n",
    "plt.plot( X,y )\n",
    "plt.xlabel(\"Year\")  \n",
    "plt.ylabel(\"Temperature\") \n",
    "plt.title(\"Annual Temperature from 1901-2017\")\n",
    "plt.show()"
   ]
  },
  {
   "cell_type": "code",
   "execution_count": null,
   "id": "07c4c400",
   "metadata": {},
   "outputs": [],
   "source": [
    "# Visualization\n",
    "#plt.figure(figsize=(12, 9))\n",
    "plt.scatter(X_test,y_test,color = 'blue');\n",
    "plt.scatter(X_train,y_train,color = 'red');\n",
    "plt.plot(X_train,lr.predict(X_train), color = 'black');\n",
    "plt.legend(['Best fit Regression lIne','Testing Set','Training Set'])\n",
    "plt.title('Temperature vs Year for month Feb')\n",
    "plt.ylabel('Temperature')\n",
    "plt.xlabel('Year')\n",
    "plt.show();"
   ]
  },
  {
   "cell_type": "code",
   "execution_count": null,
   "id": "8acb9720",
   "metadata": {},
   "outputs": [],
   "source": [
    "#Errors for month Feb\n",
    "print('R-Squared Error :',r2_score(y_test,y_test_lr))\n",
    "print('Mean Absolute Error :',mean_absolute_error(y_test,y_test_lr))\n",
    "print('Mean Squared Error :',mean_squared_error(y_test,y_test_lr))\n",
    "print('Root Mean Squared Error :',np.sqrt(mean_squared_error(y_test,y_test_lr)))"
   ]
  },
  {
   "cell_type": "code",
   "execution_count": null,
   "id": "1b6c2c7f",
   "metadata": {},
   "outputs": [],
   "source": [
    "# Split the dataset into training and testing# march\n",
    "\n",
    "from sklearn.model_selection import train_test_split\n",
    "from sklearn.linear_model import LinearRegression\n",
    "\n",
    "X=temp_dataset[[\"YEAR\"]]\n",
    "y=temp_dataset[\"MAR\"]\n",
    "X_train, X_test, y_train, y_test = train_test_split(X, y, test_size = 0.2, random_state = 42)\n",
    "print(X_train.shape, X_test.shape)\n",
    "\n",
    "# instantiate the model\n",
    "lr = LinearRegression()\n",
    "# fit the model \n",
    "lr.fit(X_train, y_train)\n",
    "\n",
    "#predicting the target value from the model for the samples\n",
    "y_test_lr = lr.predict(X_test)\n",
    "y_train_lr = lr.predict(X_train)"
   ]
  },
  {
   "cell_type": "code",
   "execution_count": null,
   "id": "21a7217c",
   "metadata": {},
   "outputs": [],
   "source": [
    "print(\"Intercept\",lr.intercept_)\n",
    "print(\"Slope\",lr.coef_)"
   ]
  },
  {
   "cell_type": "code",
   "execution_count": null,
   "id": "7d339693",
   "metadata": {},
   "outputs": [],
   "source": [
    "#computing the accuracy of the model performance\n",
    "acc_train_lr = lr.score(X_train, y_train)\n",
    "acc_test_lr = lr.score(X_test, y_test)\n",
    "\n",
    "#computing root mean squared error (RMSE)\n",
    "rmse_train_lr = np.sqrt(mean_squared_error(y_train, y_train_lr))\n",
    "rmse_test_lr = np.sqrt(mean_squared_error(y_test, y_test_lr))\n",
    "\n",
    "print(\"Linear Regression: Accuracy on training Data: {:.3f}\".format(acc_train_lr))\n",
    "print(\"Linear Regression: Accuracy on test Data: {:.3f}\".format(acc_test_lr))\n",
    "print('\\nLinear Regression: The RMSE of the training set is:', rmse_train_lr)\n",
    "print('Linear Regression: The RMSE of the testing set is:', rmse_test_lr)"
   ]
  },
  {
   "cell_type": "code",
   "execution_count": null,
   "id": "fe3363c6",
   "metadata": {},
   "outputs": [],
   "source": [
    "#visulaize annaul temperature\n",
    "plt.plot( X,y )\n",
    "plt.xlabel(\"Year\")  \n",
    "plt.ylabel(\"Temperature\") \n",
    "plt.title(\"Annual Temperature from 1901-2017\")\n",
    "plt.show()"
   ]
  },
  {
   "cell_type": "code",
   "execution_count": null,
   "id": "edd07713",
   "metadata": {},
   "outputs": [],
   "source": [
    "# Visualization\n",
    "#plt.figure(figsize=(12, 9))\n",
    "plt.scatter(X_test,y_test,color = 'blue');\n",
    "plt.scatter(X_train,y_train,color = 'red');\n",
    "plt.plot(X_train,lr.predict(X_train), color = 'black');\n",
    "plt.legend(['Best fit Regression lIne','Testing Set','Training Set'])\n",
    "plt.title('Temperature vs Year for month March')\n",
    "plt.ylabel('Temperature')\n",
    "plt.xlabel('Year')\n",
    "plt.show();"
   ]
  },
  {
   "cell_type": "code",
   "execution_count": null,
   "id": "e7bc48e2",
   "metadata": {},
   "outputs": [],
   "source": [
    "#Errors for month March\n",
    "print('R-Squared Error :',r2_score(y_test,y_test_lr))\n",
    "print('Mean Absolute Error :',mean_absolute_error(y_test,y_test_lr))\n",
    "print('Mean Squared Error :',mean_squared_error(y_test,y_test_lr))\n",
    "print('Root Mean Squared Error :',np.sqrt(mean_squared_error(y_test,y_test_lr)))"
   ]
  },
  {
   "cell_type": "code",
   "execution_count": null,
   "id": "9459ffb8",
   "metadata": {},
   "outputs": [],
   "source": [
    "# Split the dataset into training and testing# mar-may\n",
    "\n",
    "from sklearn.model_selection import train_test_split\n",
    "from sklearn.linear_model import LinearRegression\n",
    "\n",
    "X=temp_dataset[[\"YEAR\"]]\n",
    "y=temp_dataset[\"MAR-MAY\"]\n",
    "X_train, X_test, y_train, y_test = train_test_split(X, y, test_size = 0.2, random_state = 42)\n",
    "print(X_train.shape, X_test.shape)\n",
    "\n",
    "# instantiate the model\n",
    "lr = LinearRegression()\n",
    "# fit the model \n",
    "lr.fit(X_train, y_train)\n",
    "\n",
    "#predicting the target value from the model for the samples\n",
    "y_test_lr = lr.predict(X_test)\n",
    "y_train_lr = lr.predict(X_train)"
   ]
  },
  {
   "cell_type": "code",
   "execution_count": null,
   "id": "4985d232",
   "metadata": {},
   "outputs": [],
   "source": [
    "print(\"Intercept\",lr.intercept_)\n",
    "print(\"Slope\",lr.coef_)"
   ]
  },
  {
   "cell_type": "code",
   "execution_count": null,
   "id": "c3166799",
   "metadata": {},
   "outputs": [],
   "source": [
    "#computing the accuracy of the model performance\n",
    "acc_train_lr = lr.score(X_train, y_train)\n",
    "acc_test_lr = lr.score(X_test, y_test)\n",
    "\n",
    "#computing root mean squared error (RMSE)\n",
    "rmse_train_lr = np.sqrt(mean_squared_error(y_train, y_train_lr))\n",
    "rmse_test_lr = np.sqrt(mean_squared_error(y_test, y_test_lr))\n",
    "\n",
    "print(\"Linear Regression: Accuracy on training Data: {:.3f}\".format(acc_train_lr))\n",
    "print(\"Linear Regression: Accuracy on test Data: {:.3f}\".format(acc_test_lr))\n",
    "print('\\nLinear Regression: The RMSE of the training set is:', rmse_train_lr)\n",
    "print('Linear Regression: The RMSE of the testing set is:', rmse_test_lr)"
   ]
  },
  {
   "cell_type": "code",
   "execution_count": null,
   "id": "5111e5ab",
   "metadata": {},
   "outputs": [],
   "source": [
    "#visulaize annaul temperature\n",
    "plt.plot(X,y)\n",
    "plt.xlabel(\"Year\")  \n",
    "plt.ylabel(\"Temperature\") \n",
    "plt.title(\"Annual Temperature from 1901-2017\")\n",
    "plt.show()"
   ]
  },
  {
   "cell_type": "code",
   "execution_count": null,
   "id": "81163e37",
   "metadata": {},
   "outputs": [],
   "source": [
    "# Visualization\n",
    "#plt.figure(figsize=(12, 9))\n",
    "plt.scatter(X_test,y_test,color = 'blue');\n",
    "plt.scatter(X_train,y_train,color = 'red');\n",
    "plt.plot(X_train,lr.predict(X_train), color = 'black');\n",
    "plt.legend(['Best fit Regression lIne','Testing Set','Training Set'])\n",
    "plt.title('Temperature vs Year for month March-May')\n",
    "plt.ylabel('Temperature')\n",
    "plt.xlabel('Year')\n",
    "plt.show();"
   ]
  },
  {
   "cell_type": "code",
   "execution_count": null,
   "id": "b1b5d07c",
   "metadata": {},
   "outputs": [],
   "source": [
    "#Errors for month Mar-May\n",
    "print('R-Squared Error :',r2_score(y_test,y_test_lr))\n",
    "print('Mean Absolute Error :',mean_absolute_error(y_test,y_test_lr))\n",
    "print('Mean Squared Error :',mean_squared_error(y_test,y_test_lr))\n",
    "print('Root Mean Squared Error :',np.sqrt(mean_squared_error(y_test,y_test_lr)))"
   ]
  }
 ],
 "metadata": {
  "kernelspec": {
   "display_name": "Python 3 (ipykernel)",
   "language": "python",
   "name": "python3"
  },
  "language_info": {
   "codemirror_mode": {
    "name": "ipython",
    "version": 3
   },
   "file_extension": ".py",
   "mimetype": "text/x-python",
   "name": "python",
   "nbconvert_exporter": "python",
   "pygments_lexer": "ipython3",
   "version": "3.11.5"
  }
 },
 "nbformat": 4,
 "nbformat_minor": 5
}
