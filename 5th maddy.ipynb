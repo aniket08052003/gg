{
 "cells": [
  {
   "cell_type": "code",
   "execution_count": null,
   "id": "b5e1255d",
   "metadata": {},
   "outputs": [],
   "source": [
    "import pandas as pd\n",
    "import matplotlib.pyplot as plt"
   ]
  },
  {
   "cell_type": "code",
   "execution_count": null,
   "id": "1cfa1561",
   "metadata": {},
   "outputs": [],
   "source": [
    "df=pd.read_csv('mallcustomers.csv')"
   ]
  },
  {
   "cell_type": "code",
   "execution_count": null,
   "id": "fca1006b",
   "metadata": {},
   "outputs": [],
   "source": [
    "x=df.iloc[:,3:]"
   ]
  },
  {
   "cell_type": "code",
   "execution_count": null,
   "id": "20d5bea8",
   "metadata": {},
   "outputs": [],
   "source": [
    "x"
   ]
  },
  {
   "cell_type": "code",
   "execution_count": null,
   "id": "4ec1ad6c",
   "metadata": {},
   "outputs": [],
   "source": [
    "plt.title('Unclustered data')\n",
    "plt.xlabel('Annual Income')\n",
    "plt.ylabel('Spending Score')\n",
    "plt.scatter(x['Annual Income (k$)'], x['Spending Score (1-100)'])"
   ]
  },
  {
   "cell_type": "code",
   "execution_count": null,
   "id": "37465473",
   "metadata": {},
   "outputs": [],
   "source": [
    "from sklearn.cluster import KMeans, AgglomerativeClustering"
   ]
  },
  {
   "cell_type": "code",
   "execution_count": null,
   "id": "55ddda95",
   "metadata": {},
   "outputs": [],
   "source": [
    "km = KMeans(n_clusters=3)"
   ]
  },
  {
   "cell_type": "code",
   "execution_count": null,
   "id": "83004002",
   "metadata": {},
   "outputs": [],
   "source": [
    "x.shape"
   ]
  },
  {
   "cell_type": "code",
   "execution_count": null,
   "id": "1434f436",
   "metadata": {},
   "outputs": [],
   "source": [
    "km.fit_predict(x)"
   ]
  },
  {
   "cell_type": "code",
   "execution_count": null,
   "id": "76328a96",
   "metadata": {},
   "outputs": [],
   "source": [
    "km.inertia_"
   ]
  },
  {
   "cell_type": "code",
   "execution_count": null,
   "id": "e7076bca",
   "metadata": {},
   "outputs": [],
   "source": [
    "sse=[]\n",
    "for k in range(1,16):\n",
    "    km = KMeans(n_clusters = k)\n",
    "    km.fit_predict(x)\n",
    "    sse.append(km.inertia_)"
   ]
  },
  {
   "cell_type": "code",
   "execution_count": null,
   "id": "2abf6940",
   "metadata": {},
   "outputs": [],
   "source": [
    "sse"
   ]
  },
  {
   "cell_type": "code",
   "execution_count": null,
   "id": "2332be30",
   "metadata": {},
   "outputs": [],
   "source": [
    "plt.title('Elbow Method')\n",
    "plt.xlabel('value of k')\n",
    "plt.ylabel('sse')\n",
    "plt.grid()\n",
    "plt.xticks(range(1,16))\n",
    "plt.plot(range(1,16),sse,marker ='.', color='red') "
   ]
  },
  {
   "cell_type": "code",
   "execution_count": null,
   "id": "0b59f76a",
   "metadata": {},
   "outputs": [],
   "source": [
    "from sklearn.metrics import silhouette_score"
   ]
  },
  {
   "cell_type": "code",
   "execution_count": null,
   "id": "3c5b79c9",
   "metadata": {},
   "outputs": [],
   "source": [
    "silh=[]"
   ]
  },
  {
   "cell_type": "code",
   "execution_count": null,
   "id": "58cb00dd",
   "metadata": {},
   "outputs": [],
   "source": [
    "for k in range(2,16):\n",
    "    km = KMeans(n_clusters=k)\n",
    "    labels = km.fit_predict(x)\n",
    "    score = silhouette_score(x, labels)\n",
    "    silh.append(score)"
   ]
  },
  {
   "cell_type": "code",
   "execution_count": null,
   "id": "8e0856aa",
   "metadata": {},
   "outputs": [],
   "source": [
    "silh"
   ]
  },
  {
   "cell_type": "code",
   "execution_count": null,
   "id": "d65834bc",
   "metadata": {},
   "outputs": [],
   "source": [
    "plt.title('silhouette method')\n",
    "plt.xlabel('Value of k')\n",
    "plt.ylabel('silhouette score')\n",
    "plt.grid()\n",
    "plt.xticks(range(2,16))\n",
    "plt.bar(range(2,16),silh,color='red')"
   ]
  },
  {
   "cell_type": "code",
   "execution_count": null,
   "id": "aef47356",
   "metadata": {},
   "outputs": [],
   "source": [
    "km=KMeans(n_clusters=5,random_state=0)"
   ]
  },
  {
   "cell_type": "code",
   "execution_count": null,
   "id": "6586e37d",
   "metadata": {},
   "outputs": [],
   "source": [
    "labels=km.fit_predict(x)"
   ]
  },
  {
   "cell_type": "code",
   "execution_count": null,
   "id": "0e1ee093",
   "metadata": {},
   "outputs": [],
   "source": [
    "labels"
   ]
  },
  {
   "cell_type": "code",
   "execution_count": null,
   "id": "6a9d20ca",
   "metadata": {},
   "outputs": [],
   "source": [
    "plt.figure(figsize=(16,9))\n",
    "plt.subplot(1,2,1)\n",
    "plt.title('unclustered data')\n",
    "plt.xlabel('Annual Income')\n",
    "plt.ylabel('Spending Score')\n",
    "plt.scatter(x['Annual Income (k$)'], x['Spending Score (1-100)'])\n",
    "\n",
    "\n",
    "\n",
    "plt.subplot(1,2,2)\n",
    "plt.title('clustered data')\n",
    "plt.xlabel('Annual Income')\n",
    "plt.ylabel('Spending Score')\n",
    "plt.scatter(x['Annual Income (k$)'], x['Spending Score (1-100)'],c=labels)"
   ]
  },
  {
   "cell_type": "code",
   "execution_count": null,
   "id": "aa53dad0",
   "metadata": {},
   "outputs": [],
   "source": [
    "km.inertia_"
   ]
  },
  {
   "cell_type": "code",
   "execution_count": null,
   "id": "3096cb34",
   "metadata": {},
   "outputs": [],
   "source": [
    "km.labels_"
   ]
  },
  {
   "cell_type": "code",
   "execution_count": null,
   "id": "2f75fd57",
   "metadata": {},
   "outputs": [],
   "source": [
    "df[labels==4]"
   ]
  },
  {
   "cell_type": "code",
   "execution_count": null,
   "id": "0ab22a11",
   "metadata": {},
   "outputs": [],
   "source": [
    "km.predict([[46,78]])"
   ]
  },
  {
   "cell_type": "code",
   "execution_count": null,
   "id": "af5c428c",
   "metadata": {},
   "outputs": [],
   "source": [
    "agl=AgglomerativeClustering(n_clusters=5)"
   ]
  },
  {
   "cell_type": "code",
   "execution_count": null,
   "id": "ab2318b2",
   "metadata": {},
   "outputs": [],
   "source": [
    "alabels=agl.fit_predict(x)"
   ]
  },
  {
   "cell_type": "code",
   "execution_count": null,
   "id": "03b43e7c",
   "metadata": {},
   "outputs": [],
   "source": [
    "alabels"
   ]
  },
  {
   "cell_type": "code",
   "execution_count": null,
   "id": "2b6f4481",
   "metadata": {},
   "outputs": [],
   "source": [
    "plt.figure(figsize=(16,9))\n",
    "plt.subplot(1,2,1)\n",
    "plt.title('AgglomerativeClustering')\n",
    "plt.xlabel('Annual Income')\n",
    "plt.ylabel('Spending Score')\n",
    "plt.scatter(x['Annual Income (k$)'], x['Spending Score (1-100)'],c=alabels)\n",
    "\n",
    "\n",
    "\n",
    "plt.subplot(1,2,2)\n",
    "plt.title('KMeans')\n",
    "plt.xlabel('Annual Income')\n",
    "plt.ylabel('Spending Score')\n",
    "plt.scatter(x['Annual Income (k$)'], x['Spending Score (1-100)'],c=labels)"
   ]
  }
 ],
 "metadata": {
  "kernelspec": {
   "display_name": "Python 3 (ipykernel)",
   "language": "python",
   "name": "python3"
  },
  "language_info": {
   "codemirror_mode": {
    "name": "ipython",
    "version": 3
   },
   "file_extension": ".py",
   "mimetype": "text/x-python",
   "name": "python",
   "nbconvert_exporter": "python",
   "pygments_lexer": "ipython3",
   "version": "3.11.5"
  }
 },
 "nbformat": 4,
 "nbformat_minor": 5
}
