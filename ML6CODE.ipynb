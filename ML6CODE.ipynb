{
 "cells": [
  {
   "cell_type": "code",
   "execution_count": null,
   "id": "58718f21",
   "metadata": {},
   "outputs": [],
   "source": [
    "import numpy as np # linear algebra\n",
    "import pandas as pd # data processing, CSV file I/O (e.g. pd.read_csv)\n",
    "\n",
    "import os\n",
    "for dirname, _, filenames in os.walk('/kaggle/input'):\n",
    "    for filename in filenames:\n",
    "        print(os.path.join(dirname, filename))\n"
   ]
  },
  {
   "cell_type": "code",
   "execution_count": null,
   "id": "2fefca1b",
   "metadata": {},
   "outputs": [],
   "source": [
    "!pip install mlxtend"
   ]
  },
  {
   "cell_type": "code",
   "execution_count": null,
   "id": "e4062882",
   "metadata": {},
   "outputs": [],
   "source": [
    "import csv\n",
    "from mlxtend.preprocessing import TransactionEncoder\n",
    "from mlxtend.frequent_patterns import apriori, association_rules"
   ]
  },
  {
   "cell_type": "code",
   "execution_count": null,
   "id": "eba0efc6",
   "metadata": {},
   "outputs": [],
   "source": [
    "data = []\n",
    "with open('Market_Basket_Optimisation.csv') as file:\n",
    "    reader = csv.reader(file, delimiter=',')\n",
    "    for row in reader:\n",
    "        data +=[row]"
   ]
  },
  {
   "cell_type": "code",
   "execution_count": null,
   "id": "36d55164",
   "metadata": {},
   "outputs": [],
   "source": [
    "data[1:10] #list of list"
   ]
  },
  {
   "cell_type": "code",
   "execution_count": null,
   "id": "024d7858",
   "metadata": {},
   "outputs": [],
   "source": [
    "len(data)"
   ]
  },
  {
   "cell_type": "code",
   "execution_count": null,
   "id": "70293e15",
   "metadata": {},
   "outputs": [],
   "source": [
    "te = TransactionEncoder()\n",
    "x = te.fit_transform(data)"
   ]
  },
  {
   "cell_type": "code",
   "execution_count": null,
   "id": "7334eac4",
   "metadata": {},
   "outputs": [],
   "source": [
    "x"
   ]
  },
  {
   "cell_type": "code",
   "execution_count": null,
   "id": "4ddcc5a5",
   "metadata": {},
   "outputs": [],
   "source": [
    "te.columns_"
   ]
  },
  {
   "cell_type": "code",
   "execution_count": null,
   "id": "42f09a4c",
   "metadata": {},
   "outputs": [],
   "source": [
    "df = pd.DataFrame(x, columns=te.columns_)"
   ]
  },
  {
   "cell_type": "code",
   "execution_count": null,
   "id": "32215cbf",
   "metadata": {},
   "outputs": [],
   "source": [
    "df"
   ]
  },
  {
   "cell_type": "code",
   "execution_count": null,
   "id": "ce78811f",
   "metadata": {},
   "outputs": [],
   "source": [
    "# Finding frequent itemsets\n",
    "freq_itemset = apriori(df, min_support=0.01, use_colnames=True)"
   ]
  },
  {
   "cell_type": "code",
   "execution_count": null,
   "id": "48d7bbe5",
   "metadata": {},
   "outputs": [],
   "source": [
    "freq_itemset"
   ]
  },
  {
   "cell_type": "code",
   "execution_count": null,
   "id": "173a6ef4",
   "metadata": {},
   "outputs": [],
   "source": [
    "#Find the rules\n",
    "rules = association_rules(freq_itemset, metric='confidence', min_threshold=0.10)"
   ]
  },
  {
   "cell_type": "code",
   "execution_count": null,
   "id": "17ab5b9b",
   "metadata": {},
   "outputs": [],
   "source": [
    "rules = rules[['antecedents','consequents','support','confidence']]\n",
    "rules"
   ]
  },
  {
   "cell_type": "code",
   "execution_count": null,
   "id": "e51217da",
   "metadata": {},
   "outputs": [],
   "source": [
    "rules[rules['antecedents'] == {'cake'}]['consequents']"
   ]
  }
 ],
 "metadata": {
  "kernelspec": {
   "display_name": "Python 3 (ipykernel)",
   "language": "python",
   "name": "python3"
  },
  "language_info": {
   "codemirror_mode": {
    "name": "ipython",
    "version": 3
   },
   "file_extension": ".py",
   "mimetype": "text/x-python",
   "name": "python",
   "nbconvert_exporter": "python",
   "pygments_lexer": "ipython3",
   "version": "3.11.4"
  }
 },
 "nbformat": 4,
 "nbformat_minor": 5
}
